{
  "nbformat": 4,
  "nbformat_minor": 0,
  "metadata": {
    "colab": {
      "name": "GlobalCarProduction.ipynb",
      "provenance": [],
      "include_colab_link": true
    },
    "kernelspec": {
      "name": "python3",
      "display_name": "Python 3"
    },
    "language_info": {
      "name": "python"
    }
  },
  "cells": [
    {
      "cell_type": "markdown",
      "metadata": {
        "id": "view-in-github",
        "colab_type": "text"
      },
      "source": [
        "<a href=\"https://colab.research.google.com/github/AbdulHafidh-AI/ProyekVisdat/blob/main/GlobalCarProduction.ipynb\" target=\"_parent\"><img src=\"https://colab.research.google.com/assets/colab-badge.svg\" alt=\"Open In Colab\"/></a>"
      ]
    },
    {
      "cell_type": "markdown",
      "source": [
        "### JUDUL: GLOBAL CAR PRODUCTION\n"
      ],
      "metadata": {
        "id": "E6W9fGtdPP5R"
      }
    },
    {
      "cell_type": "markdown",
      "source": [
        "### Anggota Kelompok\n",
        " <li><em>Abdul Hafidh</em>  (2008107010056)</li>\n",
        "  <li><em>Amar Suhendra</em> (2008107010091)</li>\n",
        "  <li><em>Daffa Mudhaffar</em> (2008107010013</li>"
      ],
      "metadata": {
        "id": "pV2Lc1fqPfQv"
      }
    },
    {
      "cell_type": "code",
      "source": [
        "import pandas as pd"
      ],
      "metadata": {
        "id": "h9EB5ng8Pec5"
      },
      "execution_count": null,
      "outputs": []
    },
    {
      "cell_type": "code",
      "source": [
        "sample = pd.read_csv(\"https://raw.githubusercontent.com/AbdulHafidh-AI/ProyekVisdat/main/Global%20Car%20Production%201950-2019.csv\");"
      ],
      "metadata": {
        "id": "iR0DY7l9Py49"
      },
      "execution_count": null,
      "outputs": []
    }
  ]
}